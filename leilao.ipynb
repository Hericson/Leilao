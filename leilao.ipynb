{
 "cells": [
  {
   "cell_type": "code",
   "execution_count": 1,
   "metadata": {},
   "outputs": [],
   "source": [
    "import pandas as pd\n",
    "from selenium import webdriver\n",
    "\n",
    "from webdriver_manager.chrome import ChromeDriverManager\n",
    "\n",
    "import time\n",
    "import os\n",
    "\n",
    "from dotenv import load_dotenv\n",
    "\n",
    "load_dotenv()  # take environment variables from .env.\n",
    "\n",
    "import csv\n",
    "import pandas as pd\n",
    "import configparser\n",
    "from Auction import Auction"
   ]
  },
  {
   "cell_type": "code",
   "execution_count": 2,
   "metadata": {},
   "outputs": [
    {
     "data": {
      "text/plain": [
       "['config.ini']"
      ]
     },
     "execution_count": 2,
     "metadata": {},
     "output_type": "execute_result"
    }
   ],
   "source": [
    "config = configparser.ConfigParser()\n",
    "config.read('config.ini')"
   ]
  },
  {
   "cell_type": "code",
   "execution_count": 3,
   "metadata": {},
   "outputs": [
    {
     "name": "stderr",
     "output_type": "stream",
     "text": [
      "/tmp/ipykernel_6763/1960473131.py:1: DeprecationWarning: executable_path has been deprecated, please pass in a Service object\n",
      "  navigator = webdriver.Chrome(ChromeDriverManager().install())\n"
     ]
    }
   ],
   "source": [
    "navigator = webdriver.Chrome(ChromeDriverManager().install())\n",
    "navigator.get(os.getenv('URL'))"
   ]
  },
  {
   "cell_type": "code",
   "execution_count": 4,
   "metadata": {},
   "outputs": [],
   "source": [
    "auction = Auction(navigator, config)"
   ]
  },
  {
   "attachments": {},
   "cell_type": "markdown",
   "metadata": {},
   "source": [
    "##### Get Title"
   ]
  },
  {
   "cell_type": "code",
   "execution_count": 9,
   "metadata": {},
   "outputs": [
    {
     "data": {
      "text/plain": [
       "'LEILÃO-DE-VEÍCULOS-NORTE-09-03-23'"
      ]
     },
     "execution_count": 9,
     "metadata": {},
     "output_type": "execute_result"
    }
   ],
   "source": [
    "auction_title = auction.get_element_text('AUCTION-TITLE').replace('/','_')\n",
    "auction_title"
   ]
  },
  {
   "cell_type": "code",
   "execution_count": 10,
   "metadata": {},
   "outputs": [
    {
     "data": {
      "text/plain": [
       "125"
      ]
     },
     "execution_count": 10,
     "metadata": {},
     "output_type": "execute_result"
    }
   ],
   "source": [
    "time.sleep(5)\n",
    "total_results = int(auction.get_element_text('TOTAL-RESULTS').split(' ')[0])\n",
    "total_results"
   ]
  },
  {
   "attachments": {},
   "cell_type": "markdown",
   "metadata": {},
   "source": [
    "#### Click on car"
   ]
  },
  {
   "cell_type": "code",
   "execution_count": 11,
   "metadata": {},
   "outputs": [],
   "source": [
    "time.sleep(5)\n",
    "auction.click('FIRST-CAR')\n",
    "time.sleep(5)"
   ]
  },
  {
   "cell_type": "code",
   "execution_count": 15,
   "metadata": {},
   "outputs": [],
   "source": [
    "cars = []\n",
    "\n",
    "for _ in range(1, 5):\n",
    "    try:\n",
    "        data = auction.get_full_information()\n",
    "        cars.append(data)\n",
    "        time.sleep(5)\n",
    "        auction.click('NEXT_VEHICLE') \n",
    "    except:\n",
    "        print('erro')\n",
    "        auction.click('NEXT_VEHICLE') "
   ]
  },
  {
   "cell_type": "code",
   "execution_count": 17,
   "metadata": {},
   "outputs": [
    {
     "data": {
      "text/plain": [
       "[{'BATCH': '1',\n",
       "  'VEHICLE': 'renault/kwid zen 1.0 mecanico (4p)',\n",
       "  'BANK': 'BANCO SANTANDER S/A',\n",
       "  'KM': '56.674',\n",
       "  'YEAR': '20/21',\n",
       "  'FUEL': 'Flex',\n",
       "  'COLOR': 'BRANCA',\n",
       "  'FIPE': 'R$ 50.268,00',\n",
       "  'YARD': 'PATIO MANAUS',\n",
       "  'RESUME-TYPE': 'Recuperado de Financiamento',\n",
       "  'TYPE': 'Veículos',\n",
       "  'HAS-KEY': 'Sim'},\n",
       " {'BATCH': '4',\n",
       "  'VEHICLE': 'honda/hr-v touring',\n",
       "  'BANK': 'BANCO SANTANDER S/A',\n",
       "  'KM': '87.401',\n",
       "  'YEAR': '18/18',\n",
       "  'FUEL': 'Flex',\n",
       "  'COLOR': 'BRANCA',\n",
       "  'FIPE': 'R$ 107.286,00',\n",
       "  'YARD': 'BENEVIDES-PA',\n",
       "  'RESUME-TYPE': 'Recuperado de Financiamento',\n",
       "  'TYPE': 'Veículos',\n",
       "  'HAS-KEY': 'Sim'},\n",
       " {'BATCH': '5',\n",
       "  'VEHICLE': 'land rover/evoque se dynamic',\n",
       "  'BANK': 'BANCO SANTANDER S/A',\n",
       "  'KM': '62.731',\n",
       "  'YEAR': '17/17',\n",
       "  'FUEL': 'Gasolina',\n",
       "  'COLOR': 'VERMELHA',\n",
       "  'FIPE': 'R$ 184.987,00',\n",
       "  'YARD': 'PATIO MANAUS',\n",
       "  'RESUME-TYPE': 'Recuperado de Financiamento',\n",
       "  'TYPE': 'Utilitários',\n",
       "  'HAS-KEY': 'Sim'},\n",
       " {'BATCH': '6',\n",
       "  'VEHICLE': 'renault/kwid zen 2 (4p)',\n",
       "  'BANK': 'BANCO SANTANDER S/A',\n",
       "  'KM': '19.593',\n",
       "  'YEAR': '22/23',\n",
       "  'FUEL': 'Flex',\n",
       "  'COLOR': 'PRATA',\n",
       "  'FIPE': 'R$ 61.246,00',\n",
       "  'YARD': 'PATIO MANAUS',\n",
       "  'RESUME-TYPE': 'Recuperado de Financiamento',\n",
       "  'TYPE': 'Veículos',\n",
       "  'HAS-KEY': 'Sim'}]"
      ]
     },
     "execution_count": 17,
     "metadata": {},
     "output_type": "execute_result"
    }
   ],
   "source": [
    "cars"
   ]
  },
  {
   "cell_type": "code",
   "execution_count": 18,
   "metadata": {},
   "outputs": [],
   "source": [
    "# auction.write_csv(name = auction_title, cars = cars)"
   ]
  },
  {
   "cell_type": "code",
   "execution_count": 19,
   "metadata": {},
   "outputs": [],
   "source": [
    "vehicles = pd.read_csv('LEILÃO DE VEÍCULOS NORDESTE - 08_03_23.csv')"
   ]
  },
  {
   "cell_type": "code",
   "execution_count": 20,
   "metadata": {},
   "outputs": [
    {
     "data": {
      "text/html": [
       "<div>\n",
       "<style scoped>\n",
       "    .dataframe tbody tr th:only-of-type {\n",
       "        vertical-align: middle;\n",
       "    }\n",
       "\n",
       "    .dataframe tbody tr th {\n",
       "        vertical-align: top;\n",
       "    }\n",
       "\n",
       "    .dataframe thead th {\n",
       "        text-align: right;\n",
       "    }\n",
       "</style>\n",
       "<table border=\"1\" class=\"dataframe\">\n",
       "  <thead>\n",
       "    <tr style=\"text-align: right;\">\n",
       "      <th></th>\n",
       "      <th>BATCH</th>\n",
       "      <th>VEHICLE</th>\n",
       "      <th>BANK</th>\n",
       "      <th>KM</th>\n",
       "      <th>YEAR</th>\n",
       "      <th>FUEL</th>\n",
       "      <th>COLOR</th>\n",
       "      <th>FIPE</th>\n",
       "      <th>YARD</th>\n",
       "      <th>RESUME-TYPE</th>\n",
       "      <th>TYPE</th>\n",
       "      <th>HAS-KEY</th>\n",
       "    </tr>\n",
       "  </thead>\n",
       "  <tbody>\n",
       "    <tr>\n",
       "      <th>0</th>\n",
       "      <td>1</td>\n",
       "      <td>renault/kwid zen 1.0 mecanico</td>\n",
       "      <td>BANCO SANTANDER S/A</td>\n",
       "      <td>23.368</td>\n",
       "      <td>20/21</td>\n",
       "      <td>Flex</td>\n",
       "      <td>BRANCA</td>\n",
       "      <td>R$ 49.991,00</td>\n",
       "      <td>PATIO 2 - FORTALEZA/CE</td>\n",
       "      <td>Recuperado de Financiamento</td>\n",
       "      <td>Veículos</td>\n",
       "      <td>Sim</td>\n",
       "    </tr>\n",
       "    <tr>\n",
       "      <th>1</th>\n",
       "      <td>2</td>\n",
       "      <td>chevrolet/prisma joye 1.0 mecanico (4p)</td>\n",
       "      <td>BANCO SANTANDER S/A</td>\n",
       "      <td>58.003</td>\n",
       "      <td>19/19</td>\n",
       "      <td>Flex</td>\n",
       "      <td>BRANCA</td>\n",
       "      <td>R$ 53.894,00</td>\n",
       "      <td>PATIO 2 - FORTALEZA/CE</td>\n",
       "      <td>Recuperado de Financiamento</td>\n",
       "      <td>Veículos</td>\n",
       "      <td>Sim</td>\n",
       "    </tr>\n",
       "  </tbody>\n",
       "</table>\n",
       "</div>"
      ],
      "text/plain": [
       "   BATCH                                  VEHICLE                 BANK  \\\n",
       "0      1            renault/kwid zen 1.0 mecanico  BANCO SANTANDER S/A   \n",
       "1      2  chevrolet/prisma joye 1.0 mecanico (4p)  BANCO SANTANDER S/A   \n",
       "\n",
       "       KM   YEAR  FUEL   COLOR          FIPE                    YARD  \\\n",
       "0  23.368  20/21  Flex  BRANCA  R$ 49.991,00  PATIO 2 - FORTALEZA/CE   \n",
       "1  58.003  19/19  Flex  BRANCA  R$ 53.894,00  PATIO 2 - FORTALEZA/CE   \n",
       "\n",
       "                   RESUME-TYPE      TYPE HAS-KEY  \n",
       "0  Recuperado de Financiamento  Veículos     Sim  \n",
       "1  Recuperado de Financiamento  Veículos     Sim  "
      ]
     },
     "execution_count": 20,
     "metadata": {},
     "output_type": "execute_result"
    }
   ],
   "source": [
    "vehicles.head(2)"
   ]
  },
  {
   "cell_type": "code",
   "execution_count": 21,
   "metadata": {},
   "outputs": [
    {
     "data": {
      "text/html": [
       "<div>\n",
       "<style scoped>\n",
       "    .dataframe tbody tr th:only-of-type {\n",
       "        vertical-align: middle;\n",
       "    }\n",
       "\n",
       "    .dataframe tbody tr th {\n",
       "        vertical-align: top;\n",
       "    }\n",
       "\n",
       "    .dataframe thead th {\n",
       "        text-align: right;\n",
       "    }\n",
       "</style>\n",
       "<table border=\"1\" class=\"dataframe\">\n",
       "  <thead>\n",
       "    <tr style=\"text-align: right;\">\n",
       "      <th></th>\n",
       "      <th>BATCH</th>\n",
       "      <th>VEHICLE</th>\n",
       "      <th>BANK</th>\n",
       "      <th>KM</th>\n",
       "      <th>YEAR</th>\n",
       "      <th>FUEL</th>\n",
       "      <th>COLOR</th>\n",
       "      <th>FIPE</th>\n",
       "      <th>YARD</th>\n",
       "      <th>RESUME-TYPE</th>\n",
       "      <th>TYPE</th>\n",
       "      <th>HAS-KEY</th>\n",
       "    </tr>\n",
       "  </thead>\n",
       "  <tbody>\n",
       "    <tr>\n",
       "      <th>66</th>\n",
       "      <td>139</td>\n",
       "      <td>honda/pcx 150 sport abs</td>\n",
       "      <td>BANCO SANTANDER S/A</td>\n",
       "      <td>8.414</td>\n",
       "      <td>20/21</td>\n",
       "      <td>Gasolina</td>\n",
       "      <td>PRATA</td>\n",
       "      <td>R$ 18.164,00</td>\n",
       "      <td>PATIO 2 - FORTALEZA/CE</td>\n",
       "      <td>Recuperado de Financiamento</td>\n",
       "      <td>Motos</td>\n",
       "      <td>Sim</td>\n",
       "    </tr>\n",
       "    <tr>\n",
       "      <th>57</th>\n",
       "      <td>120</td>\n",
       "      <td>honda/cg 160 fan</td>\n",
       "      <td>BANCO SANTANDER S/A</td>\n",
       "      <td>11.884</td>\n",
       "      <td>22/22</td>\n",
       "      <td>Flex</td>\n",
       "      <td>VERMELHA</td>\n",
       "      <td>R$ 15.772,00</td>\n",
       "      <td>PATIO 2 - FORTALEZA/CE</td>\n",
       "      <td>Recuperado de Financiamento</td>\n",
       "      <td>Motos</td>\n",
       "      <td>Sim</td>\n",
       "    </tr>\n",
       "    <tr>\n",
       "      <th>59</th>\n",
       "      <td>125</td>\n",
       "      <td>haojian/avelloz az1</td>\n",
       "      <td>BANCO SANTANDER S/A</td>\n",
       "      <td>11.922</td>\n",
       "      <td>21/22</td>\n",
       "      <td>Gasolina</td>\n",
       "      <td>BRANCA</td>\n",
       "      <td>R$ 7.499,00</td>\n",
       "      <td>PATIO 2 - FORTALEZA/CE</td>\n",
       "      <td>Recuperado de Financiamento</td>\n",
       "      <td>Motos</td>\n",
       "      <td>Sim</td>\n",
       "    </tr>\n",
       "    <tr>\n",
       "      <th>65</th>\n",
       "      <td>137</td>\n",
       "      <td>kawasak/z400</td>\n",
       "      <td>BANCO SANTANDER S/A</td>\n",
       "      <td>16.192</td>\n",
       "      <td>21/21</td>\n",
       "      <td>Gasolina</td>\n",
       "      <td>PRETA</td>\n",
       "      <td>R$ 28.924,00</td>\n",
       "      <td>PATIO 2 - FORTALEZA/CE</td>\n",
       "      <td>Recuperado de Financiamento</td>\n",
       "      <td>Motos</td>\n",
       "      <td>Sim</td>\n",
       "    </tr>\n",
       "    <tr>\n",
       "      <th>0</th>\n",
       "      <td>1</td>\n",
       "      <td>renault/kwid zen 1.0 mecanico</td>\n",
       "      <td>BANCO SANTANDER S/A</td>\n",
       "      <td>23.368</td>\n",
       "      <td>20/21</td>\n",
       "      <td>Flex</td>\n",
       "      <td>BRANCA</td>\n",
       "      <td>R$ 49.991,00</td>\n",
       "      <td>PATIO 2 - FORTALEZA/CE</td>\n",
       "      <td>Recuperado de Financiamento</td>\n",
       "      <td>Veículos</td>\n",
       "      <td>Sim</td>\n",
       "    </tr>\n",
       "    <tr>\n",
       "      <th>28</th>\n",
       "      <td>34</td>\n",
       "      <td>volkswagen/gol mc4 (4p)</td>\n",
       "      <td>BANCO VOLKSWAGEN S/A</td>\n",
       "      <td>30.498</td>\n",
       "      <td>19/20</td>\n",
       "      <td>Flex</td>\n",
       "      <td>VERMELHA</td>\n",
       "      <td>R$ 51.823,00</td>\n",
       "      <td>PATIO FORTALEZA/CE</td>\n",
       "      <td>Recuperado de Financiamento</td>\n",
       "      <td>Veículos</td>\n",
       "      <td>Sim</td>\n",
       "    </tr>\n",
       "    <tr>\n",
       "      <th>22</th>\n",
       "      <td>28</td>\n",
       "      <td>volkswagen/polo comfortline ad</td>\n",
       "      <td>BANCO VOLKSWAGEN S/A</td>\n",
       "      <td>50.641</td>\n",
       "      <td>19/20</td>\n",
       "      <td>Flex</td>\n",
       "      <td>AZUL</td>\n",
       "      <td>R$ 84.521,00</td>\n",
       "      <td>PATIO FORTALEZA/CE</td>\n",
       "      <td>Recuperado de Financiamento</td>\n",
       "      <td>Veículos</td>\n",
       "      <td>Sim</td>\n",
       "    </tr>\n",
       "    <tr>\n",
       "      <th>96</th>\n",
       "      <td>213</td>\n",
       "      <td>ford/fiesta flex (4p)</td>\n",
       "      <td>BANCO SANTANDER S/A</td>\n",
       "      <td>51.049</td>\n",
       "      <td>13/14</td>\n",
       "      <td>Flex</td>\n",
       "      <td>BRANCA</td>\n",
       "      <td>R$ 30.046,00</td>\n",
       "      <td>PATIO 2 - FORTALEZA/CE</td>\n",
       "      <td>Recuperado de Financiamento</td>\n",
       "      <td>Veículos</td>\n",
       "      <td>Sim</td>\n",
       "    </tr>\n",
       "    <tr>\n",
       "      <th>5</th>\n",
       "      <td>6</td>\n",
       "      <td>fiat/argo drive 1.0 (4p)</td>\n",
       "      <td>BANCO SANTANDER S/A</td>\n",
       "      <td>53.201</td>\n",
       "      <td>18/18</td>\n",
       "      <td>Flex</td>\n",
       "      <td>VERMELHA</td>\n",
       "      <td>R$ 54.644,00</td>\n",
       "      <td>PATIO 2 - FORTALEZA/CE</td>\n",
       "      <td>Recuperado de Financiamento</td>\n",
       "      <td>Veículos</td>\n",
       "      <td>Sim</td>\n",
       "    </tr>\n",
       "    <tr>\n",
       "      <th>1</th>\n",
       "      <td>2</td>\n",
       "      <td>chevrolet/prisma joye 1.0 mecanico (4p)</td>\n",
       "      <td>BANCO SANTANDER S/A</td>\n",
       "      <td>58.003</td>\n",
       "      <td>19/19</td>\n",
       "      <td>Flex</td>\n",
       "      <td>BRANCA</td>\n",
       "      <td>R$ 53.894,00</td>\n",
       "      <td>PATIO 2 - FORTALEZA/CE</td>\n",
       "      <td>Recuperado de Financiamento</td>\n",
       "      <td>Veículos</td>\n",
       "      <td>Sim</td>\n",
       "    </tr>\n",
       "  </tbody>\n",
       "</table>\n",
       "</div>"
      ],
      "text/plain": [
       "    BATCH                                  VEHICLE                  BANK  \\\n",
       "66    139                  honda/pcx 150 sport abs   BANCO SANTANDER S/A   \n",
       "57    120                         honda/cg 160 fan   BANCO SANTANDER S/A   \n",
       "59    125                      haojian/avelloz az1   BANCO SANTANDER S/A   \n",
       "65    137                             kawasak/z400   BANCO SANTANDER S/A   \n",
       "0       1            renault/kwid zen 1.0 mecanico   BANCO SANTANDER S/A   \n",
       "28     34                  volkswagen/gol mc4 (4p)  BANCO VOLKSWAGEN S/A   \n",
       "22     28           volkswagen/polo comfortline ad  BANCO VOLKSWAGEN S/A   \n",
       "96    213                    ford/fiesta flex (4p)   BANCO SANTANDER S/A   \n",
       "5       6                 fiat/argo drive 1.0 (4p)   BANCO SANTANDER S/A   \n",
       "1       2  chevrolet/prisma joye 1.0 mecanico (4p)   BANCO SANTANDER S/A   \n",
       "\n",
       "        KM   YEAR      FUEL     COLOR          FIPE                    YARD  \\\n",
       "66   8.414  20/21  Gasolina     PRATA  R$ 18.164,00  PATIO 2 - FORTALEZA/CE   \n",
       "57  11.884  22/22      Flex  VERMELHA  R$ 15.772,00  PATIO 2 - FORTALEZA/CE   \n",
       "59  11.922  21/22  Gasolina    BRANCA   R$ 7.499,00  PATIO 2 - FORTALEZA/CE   \n",
       "65  16.192  21/21  Gasolina     PRETA  R$ 28.924,00  PATIO 2 - FORTALEZA/CE   \n",
       "0   23.368  20/21      Flex    BRANCA  R$ 49.991,00  PATIO 2 - FORTALEZA/CE   \n",
       "28  30.498  19/20      Flex  VERMELHA  R$ 51.823,00      PATIO FORTALEZA/CE   \n",
       "22  50.641  19/20      Flex      AZUL  R$ 84.521,00      PATIO FORTALEZA/CE   \n",
       "96  51.049  13/14      Flex    BRANCA  R$ 30.046,00  PATIO 2 - FORTALEZA/CE   \n",
       "5   53.201  18/18      Flex  VERMELHA  R$ 54.644,00  PATIO 2 - FORTALEZA/CE   \n",
       "1   58.003  19/19      Flex    BRANCA  R$ 53.894,00  PATIO 2 - FORTALEZA/CE   \n",
       "\n",
       "                    RESUME-TYPE      TYPE HAS-KEY  \n",
       "66  Recuperado de Financiamento     Motos     Sim  \n",
       "57  Recuperado de Financiamento     Motos     Sim  \n",
       "59  Recuperado de Financiamento     Motos     Sim  \n",
       "65  Recuperado de Financiamento     Motos     Sim  \n",
       "0   Recuperado de Financiamento  Veículos     Sim  \n",
       "28  Recuperado de Financiamento  Veículos     Sim  \n",
       "22  Recuperado de Financiamento  Veículos     Sim  \n",
       "96  Recuperado de Financiamento  Veículos     Sim  \n",
       "5   Recuperado de Financiamento  Veículos     Sim  \n",
       "1   Recuperado de Financiamento  Veículos     Sim  "
      ]
     },
     "execution_count": 21,
     "metadata": {},
     "output_type": "execute_result"
    }
   ],
   "source": [
    "vehicles.sort_values(by='KM').head(10)"
   ]
  }
 ],
 "metadata": {
  "kernelspec": {
   "display_name": "dev",
   "language": "python",
   "name": "python3"
  },
  "language_info": {
   "codemirror_mode": {
    "name": "ipython",
    "version": 3
   },
   "file_extension": ".py",
   "mimetype": "text/x-python",
   "name": "python",
   "nbconvert_exporter": "python",
   "pygments_lexer": "ipython3",
   "version": "3.9.16"
  },
  "orig_nbformat": 4
 },
 "nbformat": 4,
 "nbformat_minor": 2
}
