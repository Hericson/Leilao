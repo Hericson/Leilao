{
 "cells": [
  {
   "cell_type": "code",
   "execution_count": 1,
   "metadata": {},
   "outputs": [],
   "source": [
    "import pandas as pd\n",
    "from selenium import webdriver\n",
    "\n",
    "from webdriver_manager.chrome import ChromeDriverManager\n",
    "from selenium.webdriver.common.by import By\n",
    "\n",
    "import time\n",
    "import os\n",
    "\n",
    "from dotenv import load_dotenv\n",
    "\n",
    "load_dotenv()  # take environment variables from .env.\n",
    "\n",
    "import csv"
   ]
  },
  {
   "cell_type": "code",
   "execution_count": 2,
   "metadata": {},
   "outputs": [
    {
     "name": "stderr",
     "output_type": "stream",
     "text": [
      "/tmp/ipykernel_3093/1960473131.py:1: DeprecationWarning: executable_path has been deprecated, please pass in a Service object\n",
      "  navigator = webdriver.Chrome(ChromeDriverManager().install())\n"
     ]
    }
   ],
   "source": [
    "navigator = webdriver.Chrome(ChromeDriverManager().install())\n",
    "navigator.get(os.getenv('URL'))"
   ]
  },
  {
   "cell_type": "code",
   "execution_count": 3,
   "metadata": {},
   "outputs": [],
   "source": [
    "def click(path, type='xpath'):\n",
    "    if type == 'xpath':\n",
    "        navigator.find_element(By.XPATH, path).click()\n",
    "    if type == 'name':\n",
    "        navigator.find_element(By.NAME, path).click()"
   ]
  },
  {
   "attachments": {},
   "cell_type": "markdown",
   "metadata": {},
   "source": [
    "##### Get Title"
   ]
  },
  {
   "cell_type": "code",
   "execution_count": 4,
   "metadata": {},
   "outputs": [
    {
     "data": {
      "text/plain": [
       "'LEILÃO DE VEÍCULOS NORDESTE - 08_03_23'"
      ]
     },
     "execution_count": 4,
     "metadata": {},
     "output_type": "execute_result"
    }
   ],
   "source": [
    "auction_title = navigator.find_element(By.XPATH, os.getenv('AUCTION-TITLE')).text.replace('/','_')\n",
    "auction_title"
   ]
  },
  {
   "attachments": {},
   "cell_type": "markdown",
   "metadata": {},
   "source": [
    "#### Click on car"
   ]
  },
  {
   "cell_type": "code",
   "execution_count": 5,
   "metadata": {},
   "outputs": [],
   "source": [
    "time.sleep(5)\n",
    "click(os.getenv('FIRST-CAR'))\n",
    "time.sleep(5)"
   ]
  },
  {
   "cell_type": "code",
   "execution_count": 6,
   "metadata": {},
   "outputs": [],
   "source": [
    "def write_csv(name, cars):\n",
    "    with open(f'{name}.csv', 'w') as csvfile:\n",
    "        writer = csv.DictWriter(csvfile, fieldnames = cars[0].keys())\n",
    "        writer.writeheader()\n",
    "        writer.writerows(cars)"
   ]
  },
  {
   "cell_type": "code",
   "execution_count": 7,
   "metadata": {},
   "outputs": [],
   "source": [
    "def find_element(navigator, path):\n",
    "    try:\n",
    "        value = navigator.find_element(By.XPATH, os.getenv(path)).text\n",
    "    except:\n",
    "        value = ''\n",
    "    return value"
   ]
  },
  {
   "cell_type": "code",
   "execution_count": 8,
   "metadata": {},
   "outputs": [],
   "source": [
    "def get_information(navigator):\n",
    "    data = {'BATCH': find_element(navigator, 'BATCH'),\n",
    "        'VEHICLE': find_element(navigator, 'VEHICLE'),\n",
    "        'KM':find_element(navigator, 'KM'),\n",
    "        'YEAR': find_element(navigator, 'YEAR'),\n",
    "        'FUEL': find_element(navigator, 'FUEL'),\n",
    "        'COLOR': find_element(navigator, 'COLOR'),\n",
    "        'FIPE': find_element(navigator, 'FIPE'),\n",
    "        'YARD': find_element(navigator, 'YARD'),\n",
    "        'RESUME-TYPE': find_element(navigator, 'RESUME'),\n",
    "        'TYPE':find_element(navigator, 'TYPE'),\n",
    "        'HAS-KEY': find_element(navigator, 'HAS-KEY'),\n",
    "        'BANK':find_element(navigator, 'BANK'),\n",
    "        }\n",
    "    return data"
   ]
  },
  {
   "cell_type": "code",
   "execution_count": 9,
   "metadata": {},
   "outputs": [],
   "source": [
    "cars = []\n",
    "\n",
    "for _ in range(30):\n",
    "    data = get_information(navigator)\n",
    "    cars.append(data)\n",
    "    time.sleep(2)\n",
    "    click(os.getenv('NEXT_VEHICLE')) "
   ]
  },
  {
   "cell_type": "code",
   "execution_count": 10,
   "metadata": {},
   "outputs": [],
   "source": [
    "write_csv(name = auction_title, cars = cars)"
   ]
  },
  {
   "cell_type": "code",
   "execution_count": 11,
   "metadata": {},
   "outputs": [],
   "source": [
    "# !pip install webdriver-managercl"
   ]
  }
 ],
 "metadata": {
  "kernelspec": {
   "display_name": "dev",
   "language": "python",
   "name": "python3"
  },
  "language_info": {
   "codemirror_mode": {
    "name": "ipython",
    "version": 3
   },
   "file_extension": ".py",
   "mimetype": "text/x-python",
   "name": "python",
   "nbconvert_exporter": "python",
   "pygments_lexer": "ipython3",
   "version": "3.9.16"
  },
  "orig_nbformat": 4
 },
 "nbformat": 4,
 "nbformat_minor": 2
}
