{
 "cells": [
  {
   "cell_type": "code",
   "execution_count": null,
   "metadata": {},
   "outputs": [],
   "source": [
    "import pandas as pd\n",
    "from selenium import webdriver\n",
    "\n",
    "from webdriver_manager.chrome import ChromeDriverManager\n",
    "from selenium.webdriver.common.by import By\n",
    "\n",
    "import time\n",
    "import os\n",
    "\n",
    "from dotenv import load_dotenv\n",
    "\n",
    "load_dotenv()  # take environment variables from .env.\n",
    "\n",
    "import csv"
   ]
  },
  {
   "cell_type": "code",
   "execution_count": null,
   "metadata": {},
   "outputs": [],
   "source": [
    "navigator = webdriver.Chrome(ChromeDriverManager().install())\n",
    "navigator.get(os.getenv('URL'))"
   ]
  },
  {
   "cell_type": "code",
   "execution_count": null,
   "metadata": {},
   "outputs": [],
   "source": [
    "def click(path, type='xpath'):\n",
    "    if type == 'xpath':\n",
    "        navigator.find_element(By.XPATH, path).click()\n",
    "    if type == 'name':\n",
    "        navigator.find_element(By.NAME, path).click()"
   ]
  },
  {
   "cell_type": "code",
   "execution_count": null,
   "metadata": {},
   "outputs": [],
   "source": [
    "def translate_title(title):\n",
    "    if title == 'Ano':\n",
    "        return 'YEAR'\n",
    "    if title == 'Km':\n",
    "        return 'KM'\n",
    "    if title == 'Combustível':\n",
    "        return 'FUEL'  \n",
    "    if title == 'Cor':\n",
    "        return 'COLOR'\n",
    "    if title == 'Estimativa de mercado':\n",
    "        return 'FIPE'\n",
    "    if title == 'Pátio':\n",
    "        return 'YARD'\n",
    "    if title == 'Retomada':\n",
    "        return 'RESUME-TYPE'\n",
    "    if title == 'Tipo':\n",
    "        return 'TYPE'  \n",
    "    if title == 'Possui Chave':\n",
    "        return 'HAS-KEY'"
   ]
  },
  {
   "cell_type": "code",
   "execution_count": null,
   "metadata": {},
   "outputs": [],
   "source": [
    "def get_element_text(navigator, path):\n",
    "    value = navigator.find_element(By.XPATH, os.getenv(path)).text\n",
    "    return value"
   ]
  },
  {
   "cell_type": "code",
   "execution_count": null,
   "metadata": {},
   "outputs": [],
   "source": [
    "def get_vehicle_data():\n",
    "    title = []\n",
    "    value = []\n",
    "    for i in range(1,10):\n",
    "        try:     \n",
    "            result = navigator.find_element(By.XPATH,f\"/html/body/div[2]/div/div[1]/main/div[2]/div[2]/div[3]/div[2]/div/div[2]/div/div[2]/div[1]/div[{i}]/div/div\").text.split('\\n')\n",
    "            title.append(result[0])                \n",
    "            value.append(result[1])\n",
    "        except:\n",
    "            pass\n",
    "\n",
    "    data = {translate_title(title[i]): value[i] for i in range(len(title))}\n",
    "    return data"
   ]
  },
  {
   "attachments": {},
   "cell_type": "markdown",
   "metadata": {},
   "source": [
    "##### Get Title"
   ]
  },
  {
   "cell_type": "code",
   "execution_count": null,
   "metadata": {},
   "outputs": [],
   "source": [
    "auction_title = get_element_text(navigator, 'AUCTION-TITLE').replace('/','_')\n",
    "auction_title"
   ]
  },
  {
   "cell_type": "code",
   "execution_count": null,
   "metadata": {},
   "outputs": [],
   "source": [
    "total_results = int(get_element_text(navigator, 'TOTAL-RESULTS').split(' ')[0])\n",
    "total_results"
   ]
  },
  {
   "attachments": {},
   "cell_type": "markdown",
   "metadata": {},
   "source": [
    "#### Click on car"
   ]
  },
  {
   "cell_type": "code",
   "execution_count": null,
   "metadata": {},
   "outputs": [],
   "source": [
    "time.sleep(5)\n",
    "click(os.getenv('FIRST-CAR'))\n",
    "time.sleep(5)"
   ]
  },
  {
   "cell_type": "code",
   "execution_count": null,
   "metadata": {},
   "outputs": [],
   "source": [
    "def write_csv(name, cars):\n",
    "    with open(f'{name}.csv', 'w') as csvfile:\n",
    "        writer = csv.DictWriter(csvfile, fieldnames = cars[0].keys())\n",
    "        writer.writeheader()\n",
    "        writer.writerows(cars)"
   ]
  },
  {
   "cell_type": "code",
   "execution_count": null,
   "metadata": {},
   "outputs": [],
   "source": [
    "# def get_information(navigator):\n",
    "#     data = {'BATCH': find_element(navigator, 'BATCH'),\n",
    "#         'VEHICLE': find_element(navigator, 'VEHICLE'),\n",
    "#         'KM':find_element(navigator, 'KM'),\n",
    "#         'YEAR': find_element(navigator, 'YEAR'),\n",
    "#         'FUEL': find_element(navigator, 'FUEL'),\n",
    "#         'COLOR': find_element(navigator, 'COLOR'),\n",
    "#         'FIPE': find_element(navigator, 'FIPE'),\n",
    "#         'YARD': find_element(navigator, 'YARD'),\n",
    "#         'RESUME-TYPE': find_element(navigator, 'RESUME-TYPE'),\n",
    "#         'TYPE':find_element(navigator, 'TYPE'),\n",
    "#         'HAS-KEY': find_element(navigator, 'HAS-KEY'),\n",
    "#         'BANK':find_element(navigator, 'BANK'),\n",
    "#         }\n",
    "#     return data"
   ]
  },
  {
   "cell_type": "code",
   "execution_count": null,
   "metadata": {},
   "outputs": [],
   "source": [
    "def get_information(navigator):\n",
    "    car_info = get_vehicle_data()\n",
    "    full_car_info = {'BATCH': get_element_text(navigator, 'BATCH'),\n",
    "        'VEHICLE': get_element_text(navigator, 'VEHICLE'),\n",
    "        'BANK':get_element_text(navigator, 'BANK'),\n",
    "        'KM':'',\n",
    "        'YEAR': '',\n",
    "        'FUEL': '',\n",
    "        'COLOR': '',\n",
    "        'FIPE': '',\n",
    "        'YARD': '',\n",
    "        'RESUME-TYPE': '',\n",
    "        'TYPE':'',\n",
    "        'HAS-KEY': ''\n",
    "        }\n",
    "    full_car_info.update(car_info)\n",
    "    return full_car_info"
   ]
  },
  {
   "cell_type": "code",
   "execution_count": null,
   "metadata": {},
   "outputs": [],
   "source": [
    "cars = []\n",
    "\n",
    "for _ in range(1, total_results+1):\n",
    "    try:\n",
    "        data = get_information(navigator)\n",
    "        cars.append(data)\n",
    "        time.sleep(7)\n",
    "        click(os.getenv('NEXT_VEHICLE')) \n",
    "    except:\n",
    "        print('erro')\n",
    "        click(os.getenv('NEXT_VEHICLE')) "
   ]
  },
  {
   "cell_type": "code",
   "execution_count": null,
   "metadata": {},
   "outputs": [],
   "source": [
    "write_csv(name = auction_title, cars = cars)"
   ]
  }
 ],
 "metadata": {
  "kernelspec": {
   "display_name": "dev",
   "language": "python",
   "name": "python3"
  },
  "language_info": {
   "codemirror_mode": {
    "name": "ipython",
    "version": 3
   },
   "file_extension": ".py",
   "mimetype": "text/x-python",
   "name": "python",
   "nbconvert_exporter": "python",
   "pygments_lexer": "ipython3",
   "version": "3.9.16"
  },
  "orig_nbformat": 4
 },
 "nbformat": 4,
 "nbformat_minor": 2
}
