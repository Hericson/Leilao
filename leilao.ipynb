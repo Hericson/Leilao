{
 "cells": [
  {
   "cell_type": "code",
   "execution_count": 1,
   "metadata": {},
   "outputs": [],
   "source": [
    "import pandas as pd\n",
    "from selenium import webdriver\n",
    "\n",
    "from webdriver_manager.chrome import ChromeDriverManager\n",
    "from selenium.webdriver.common.by import By\n",
    "\n",
    "import time\n",
    "import os\n",
    "\n",
    "from dotenv import load_dotenv\n",
    "\n",
    "load_dotenv()  # take environment variables from .env.\n",
    "\n",
    "import csv"
   ]
  },
  {
   "cell_type": "code",
   "execution_count": 2,
   "metadata": {},
   "outputs": [
    {
     "name": "stderr",
     "output_type": "stream",
     "text": [
      "/tmp/ipykernel_8138/1960473131.py:1: DeprecationWarning: executable_path has been deprecated, please pass in a Service object\n",
      "  navigator = webdriver.Chrome(ChromeDriverManager().install())\n"
     ]
    }
   ],
   "source": [
    "navigator = webdriver.Chrome(ChromeDriverManager().install())\n",
    "navigator.get(os.getenv('URL'))"
   ]
  },
  {
   "cell_type": "code",
   "execution_count": 3,
   "metadata": {},
   "outputs": [],
   "source": [
    "def click(path, type='xpath'):\n",
    "    if type == 'xpath':\n",
    "        navigator.find_element(By.XPATH, path).click()\n",
    "    if type == 'name':\n",
    "        navigator.find_element(By.NAME, path).click()"
   ]
  },
  {
   "attachments": {},
   "cell_type": "markdown",
   "metadata": {},
   "source": [
    "##### Get Title"
   ]
  },
  {
   "cell_type": "code",
   "execution_count": 4,
   "metadata": {},
   "outputs": [
    {
     "data": {
      "text/plain": [
       "'LEILÃO DE VEÍCULOS NORDESTE - 08_03_23'"
      ]
     },
     "execution_count": 4,
     "metadata": {},
     "output_type": "execute_result"
    }
   ],
   "source": [
    "auction_title = navigator.find_element(By.XPATH, os.getenv('AUCTION-TITLE')).text.replace('/','_')\n",
    "auction_title"
   ]
  },
  {
   "attachments": {},
   "cell_type": "markdown",
   "metadata": {},
   "source": [
    "#### Click on car"
   ]
  },
  {
   "cell_type": "code",
   "execution_count": 5,
   "metadata": {},
   "outputs": [],
   "source": [
    "time.sleep(5)\n",
    "click(os.getenv('FIRST-CAR'))\n",
    "time.sleep(5)"
   ]
  },
  {
   "cell_type": "code",
   "execution_count": 6,
   "metadata": {},
   "outputs": [],
   "source": [
    "def write_csv(name, cars):\n",
    "    with open(f'{name}.csv', 'w') as csvfile:\n",
    "        writer = csv.DictWriter(csvfile, fieldnames = cars[0].keys())\n",
    "        writer.writeheader()\n",
    "        writer.writerows(cars)"
   ]
  },
  {
   "cell_type": "code",
   "execution_count": 7,
   "metadata": {},
   "outputs": [],
   "source": [
    "def find_element(navigator, path):\n",
    "    value = navigator.find_element(By.XPATH, os.getenv(path)).text\n",
    "    return value"
   ]
  },
  {
   "cell_type": "code",
   "execution_count": 8,
   "metadata": {},
   "outputs": [],
   "source": [
    "def get_information(navigator):\n",
    "    data = {'BATCH': find_element(navigator, 'BATCH'),\n",
    "        'VEHICLE': find_element(navigator, 'VEHICLE'),\n",
    "        'KM':find_element(navigator, 'KM'),\n",
    "        'YEAR': find_element(navigator, 'YEAR'),\n",
    "        'FUEL': find_element(navigator, 'FUEL'),\n",
    "        'COLOR': find_element(navigator, 'COLOR'),\n",
    "        'FIPE': find_element(navigator, 'FIPE'),\n",
    "        'YARD': find_element(navigator, 'YARD'),\n",
    "        'RESUME-TYPE': find_element(navigator, 'RESUME-TYPE'),\n",
    "        'TYPE':find_element(navigator, 'TYPE'),\n",
    "        'HAS-KEY': find_element(navigator, 'HAS-KEY'),\n",
    "        'BANK':find_element(navigator, 'BANK'),\n",
    "        }\n",
    "    return data"
   ]
  },
  {
   "cell_type": "code",
   "execution_count": 11,
   "metadata": {},
   "outputs": [
    {
     "name": "stdout",
     "output_type": "stream",
     "text": [
      "erro\n",
      "erro\n",
      "erro\n"
     ]
    }
   ],
   "source": [
    "cars = []\n",
    "\n",
    "for _ in range(3):\n",
    "    try:\n",
    "        data = get_information(navigator)\n",
    "        cars.append(data)\n",
    "        time.sleep(4)\n",
    "        click(os.getenv('NEXT_VEHICLE')) \n",
    "    except:\n",
    "        print('erro')\n",
    "        click(os.getenv('NEXT_VEHICLE')) "
   ]
  },
  {
   "cell_type": "code",
   "execution_count": 12,
   "metadata": {},
   "outputs": [
    {
     "ename": "InvalidArgumentException",
     "evalue": "Message: invalid argument: 'value' must be a string\n  (Session info: chrome=110.0.5481.177)\nStacktrace:\n#0 0x5614e9d00d93 <unknown>\n#1 0x5614e9acf2d7 <unknown>\n#2 0x5614e9b0b678 <unknown>\n#3 0x5614e9b0bdb1 <unknown>\n#4 0x5614e9b498f4 <unknown>\n#5 0x5614e9b2f61d <unknown>\n#6 0x5614e9b47619 <unknown>\n#7 0x5614e9b2f353 <unknown>\n#8 0x5614e9afee40 <unknown>\n#9 0x5614e9b00038 <unknown>\n#10 0x5614e9d548be <unknown>\n#11 0x5614e9d588f0 <unknown>\n#12 0x5614e9d38f90 <unknown>\n#13 0x5614e9d59b7d <unknown>\n#14 0x5614e9d2a578 <unknown>\n#15 0x5614e9d7e348 <unknown>\n#16 0x5614e9d7e4d6 <unknown>\n#17 0x5614e9d98341 <unknown>\n#18 0x7fc9ca1096db start_thread\n",
     "output_type": "error",
     "traceback": [
      "\u001b[0;31m---------------------------------------------------------------------------\u001b[0m",
      "\u001b[0;31mInvalidArgumentException\u001b[0m                  Traceback (most recent call last)",
      "Cell \u001b[0;32mIn[12], line 1\u001b[0m\n\u001b[0;32m----> 1\u001b[0m data \u001b[39m=\u001b[39m get_information(navigator)\n",
      "Cell \u001b[0;32mIn[8], line 10\u001b[0m, in \u001b[0;36mget_information\u001b[0;34m(navigator)\u001b[0m\n\u001b[1;32m      1\u001b[0m \u001b[39mdef\u001b[39;00m \u001b[39mget_information\u001b[39m(navigator):\n\u001b[1;32m      2\u001b[0m     data \u001b[39m=\u001b[39m {\u001b[39m'\u001b[39m\u001b[39mBATCH\u001b[39m\u001b[39m'\u001b[39m: find_element(navigator, \u001b[39m'\u001b[39m\u001b[39mBATCH\u001b[39m\u001b[39m'\u001b[39m),\n\u001b[1;32m      3\u001b[0m         \u001b[39m'\u001b[39m\u001b[39mVEHICLE\u001b[39m\u001b[39m'\u001b[39m: find_element(navigator, \u001b[39m'\u001b[39m\u001b[39mVEHICLE\u001b[39m\u001b[39m'\u001b[39m),\n\u001b[1;32m      4\u001b[0m         \u001b[39m'\u001b[39m\u001b[39mKM\u001b[39m\u001b[39m'\u001b[39m:find_element(navigator, \u001b[39m'\u001b[39m\u001b[39mKM\u001b[39m\u001b[39m'\u001b[39m),\n\u001b[1;32m      5\u001b[0m         \u001b[39m'\u001b[39m\u001b[39mYEAR\u001b[39m\u001b[39m'\u001b[39m: find_element(navigator, \u001b[39m'\u001b[39m\u001b[39mYEAR\u001b[39m\u001b[39m'\u001b[39m),\n\u001b[1;32m      6\u001b[0m         \u001b[39m'\u001b[39m\u001b[39mFUEL\u001b[39m\u001b[39m'\u001b[39m: find_element(navigator, \u001b[39m'\u001b[39m\u001b[39mFUEL\u001b[39m\u001b[39m'\u001b[39m),\n\u001b[1;32m      7\u001b[0m         \u001b[39m'\u001b[39m\u001b[39mCOLOR\u001b[39m\u001b[39m'\u001b[39m: find_element(navigator, \u001b[39m'\u001b[39m\u001b[39mCOLOR\u001b[39m\u001b[39m'\u001b[39m),\n\u001b[1;32m      8\u001b[0m         \u001b[39m'\u001b[39m\u001b[39mFIPE\u001b[39m\u001b[39m'\u001b[39m: find_element(navigator, \u001b[39m'\u001b[39m\u001b[39mFIPE\u001b[39m\u001b[39m'\u001b[39m),\n\u001b[1;32m      9\u001b[0m         \u001b[39m'\u001b[39m\u001b[39mYARD\u001b[39m\u001b[39m'\u001b[39m: find_element(navigator, \u001b[39m'\u001b[39m\u001b[39mYARD\u001b[39m\u001b[39m'\u001b[39m),\n\u001b[0;32m---> 10\u001b[0m         \u001b[39m'\u001b[39m\u001b[39mRESUME-TYPE\u001b[39m\u001b[39m'\u001b[39m: find_element(navigator, \u001b[39m'\u001b[39;49m\u001b[39mRESUME\u001b[39;49m\u001b[39m'\u001b[39;49m),\n\u001b[1;32m     11\u001b[0m         \u001b[39m'\u001b[39m\u001b[39mTYPE\u001b[39m\u001b[39m'\u001b[39m:find_element(navigator, \u001b[39m'\u001b[39m\u001b[39mTYPE\u001b[39m\u001b[39m'\u001b[39m),\n\u001b[1;32m     12\u001b[0m         \u001b[39m'\u001b[39m\u001b[39mHAS-KEY\u001b[39m\u001b[39m'\u001b[39m: find_element(navigator, \u001b[39m'\u001b[39m\u001b[39mHAS-KEY\u001b[39m\u001b[39m'\u001b[39m),\n\u001b[1;32m     13\u001b[0m         \u001b[39m'\u001b[39m\u001b[39mBANK\u001b[39m\u001b[39m'\u001b[39m:find_element(navigator, \u001b[39m'\u001b[39m\u001b[39mBANK\u001b[39m\u001b[39m'\u001b[39m),\n\u001b[1;32m     14\u001b[0m         }\n\u001b[1;32m     15\u001b[0m     \u001b[39mreturn\u001b[39;00m data\n",
      "Cell \u001b[0;32mIn[7], line 2\u001b[0m, in \u001b[0;36mfind_element\u001b[0;34m(navigator, path)\u001b[0m\n\u001b[1;32m      1\u001b[0m \u001b[39mdef\u001b[39;00m \u001b[39mfind_element\u001b[39m(navigator, path):\n\u001b[0;32m----> 2\u001b[0m     value \u001b[39m=\u001b[39m navigator\u001b[39m.\u001b[39;49mfind_element(By\u001b[39m.\u001b[39;49mXPATH, os\u001b[39m.\u001b[39;49mgetenv(path))\u001b[39m.\u001b[39mtext\n\u001b[1;32m      3\u001b[0m     \u001b[39mreturn\u001b[39;00m value\n",
      "File \u001b[0;32m~/anaconda3/envs/dev/lib/python3.9/site-packages/selenium/webdriver/remote/webdriver.py:830\u001b[0m, in \u001b[0;36mWebDriver.find_element\u001b[0;34m(self, by, value)\u001b[0m\n\u001b[1;32m    827\u001b[0m     by \u001b[39m=\u001b[39m By\u001b[39m.\u001b[39mCSS_SELECTOR\n\u001b[1;32m    828\u001b[0m     value \u001b[39m=\u001b[39m \u001b[39mf\u001b[39m\u001b[39m'\u001b[39m\u001b[39m[name=\u001b[39m\u001b[39m\"\u001b[39m\u001b[39m{\u001b[39;00mvalue\u001b[39m}\u001b[39;00m\u001b[39m\"\u001b[39m\u001b[39m]\u001b[39m\u001b[39m'\u001b[39m\n\u001b[0;32m--> 830\u001b[0m \u001b[39mreturn\u001b[39;00m \u001b[39mself\u001b[39;49m\u001b[39m.\u001b[39;49mexecute(Command\u001b[39m.\u001b[39;49mFIND_ELEMENT, {\u001b[39m\"\u001b[39;49m\u001b[39musing\u001b[39;49m\u001b[39m\"\u001b[39;49m: by, \u001b[39m\"\u001b[39;49m\u001b[39mvalue\u001b[39;49m\u001b[39m\"\u001b[39;49m: value})[\u001b[39m\"\u001b[39m\u001b[39mvalue\u001b[39m\u001b[39m\"\u001b[39m]\n",
      "File \u001b[0;32m~/anaconda3/envs/dev/lib/python3.9/site-packages/selenium/webdriver/remote/webdriver.py:440\u001b[0m, in \u001b[0;36mWebDriver.execute\u001b[0;34m(self, driver_command, params)\u001b[0m\n\u001b[1;32m    438\u001b[0m response \u001b[39m=\u001b[39m \u001b[39mself\u001b[39m\u001b[39m.\u001b[39mcommand_executor\u001b[39m.\u001b[39mexecute(driver_command, params)\n\u001b[1;32m    439\u001b[0m \u001b[39mif\u001b[39;00m response:\n\u001b[0;32m--> 440\u001b[0m     \u001b[39mself\u001b[39;49m\u001b[39m.\u001b[39;49merror_handler\u001b[39m.\u001b[39;49mcheck_response(response)\n\u001b[1;32m    441\u001b[0m     response[\u001b[39m\"\u001b[39m\u001b[39mvalue\u001b[39m\u001b[39m\"\u001b[39m] \u001b[39m=\u001b[39m \u001b[39mself\u001b[39m\u001b[39m.\u001b[39m_unwrap_value(response\u001b[39m.\u001b[39mget(\u001b[39m\"\u001b[39m\u001b[39mvalue\u001b[39m\u001b[39m\"\u001b[39m, \u001b[39mNone\u001b[39;00m))\n\u001b[1;32m    442\u001b[0m     \u001b[39mreturn\u001b[39;00m response\n",
      "File \u001b[0;32m~/anaconda3/envs/dev/lib/python3.9/site-packages/selenium/webdriver/remote/errorhandler.py:245\u001b[0m, in \u001b[0;36mErrorHandler.check_response\u001b[0;34m(self, response)\u001b[0m\n\u001b[1;32m    243\u001b[0m         alert_text \u001b[39m=\u001b[39m value[\u001b[39m\"\u001b[39m\u001b[39malert\u001b[39m\u001b[39m\"\u001b[39m]\u001b[39m.\u001b[39mget(\u001b[39m\"\u001b[39m\u001b[39mtext\u001b[39m\u001b[39m\"\u001b[39m)\n\u001b[1;32m    244\u001b[0m     \u001b[39mraise\u001b[39;00m exception_class(message, screen, stacktrace, alert_text)  \u001b[39m# type: ignore[call-arg]  # mypy is not smart enough here\u001b[39;00m\n\u001b[0;32m--> 245\u001b[0m \u001b[39mraise\u001b[39;00m exception_class(message, screen, stacktrace)\n",
      "\u001b[0;31mInvalidArgumentException\u001b[0m: Message: invalid argument: 'value' must be a string\n  (Session info: chrome=110.0.5481.177)\nStacktrace:\n#0 0x5614e9d00d93 <unknown>\n#1 0x5614e9acf2d7 <unknown>\n#2 0x5614e9b0b678 <unknown>\n#3 0x5614e9b0bdb1 <unknown>\n#4 0x5614e9b498f4 <unknown>\n#5 0x5614e9b2f61d <unknown>\n#6 0x5614e9b47619 <unknown>\n#7 0x5614e9b2f353 <unknown>\n#8 0x5614e9afee40 <unknown>\n#9 0x5614e9b00038 <unknown>\n#10 0x5614e9d548be <unknown>\n#11 0x5614e9d588f0 <unknown>\n#12 0x5614e9d38f90 <unknown>\n#13 0x5614e9d59b7d <unknown>\n#14 0x5614e9d2a578 <unknown>\n#15 0x5614e9d7e348 <unknown>\n#16 0x5614e9d7e4d6 <unknown>\n#17 0x5614e9d98341 <unknown>\n#18 0x7fc9ca1096db start_thread\n"
     ]
    }
   ],
   "source": [
    "data = get_information(navigator)"
   ]
  },
  {
   "cell_type": "code",
   "execution_count": 10,
   "metadata": {},
   "outputs": [
    {
     "ename": "IndexError",
     "evalue": "list index out of range",
     "output_type": "error",
     "traceback": [
      "\u001b[0;31m---------------------------------------------------------------------------\u001b[0m",
      "\u001b[0;31mIndexError\u001b[0m                                Traceback (most recent call last)",
      "Cell \u001b[0;32mIn[10], line 1\u001b[0m\n\u001b[0;32m----> 1\u001b[0m write_csv(name \u001b[39m=\u001b[39;49m auction_title, cars \u001b[39m=\u001b[39;49m cars)\n",
      "Cell \u001b[0;32mIn[6], line 3\u001b[0m, in \u001b[0;36mwrite_csv\u001b[0;34m(name, cars)\u001b[0m\n\u001b[1;32m      1\u001b[0m \u001b[39mdef\u001b[39;00m \u001b[39mwrite_csv\u001b[39m(name, cars):\n\u001b[1;32m      2\u001b[0m     \u001b[39mwith\u001b[39;00m \u001b[39mopen\u001b[39m(\u001b[39mf\u001b[39m\u001b[39m'\u001b[39m\u001b[39m{\u001b[39;00mname\u001b[39m}\u001b[39;00m\u001b[39m.csv\u001b[39m\u001b[39m'\u001b[39m, \u001b[39m'\u001b[39m\u001b[39mw\u001b[39m\u001b[39m'\u001b[39m) \u001b[39mas\u001b[39;00m csvfile:\n\u001b[0;32m----> 3\u001b[0m         writer \u001b[39m=\u001b[39m csv\u001b[39m.\u001b[39mDictWriter(csvfile, fieldnames \u001b[39m=\u001b[39m cars[\u001b[39m0\u001b[39;49m]\u001b[39m.\u001b[39mkeys())\n\u001b[1;32m      4\u001b[0m         writer\u001b[39m.\u001b[39mwriteheader()\n\u001b[1;32m      5\u001b[0m         writer\u001b[39m.\u001b[39mwriterows(cars)\n",
      "\u001b[0;31mIndexError\u001b[0m: list index out of range"
     ]
    }
   ],
   "source": [
    "write_csv(name = auction_title, cars = cars)"
   ]
  },
  {
   "cell_type": "code",
   "execution_count": null,
   "metadata": {},
   "outputs": [],
   "source": [
    "cars"
   ]
  }
 ],
 "metadata": {
  "kernelspec": {
   "display_name": "dev",
   "language": "python",
   "name": "python3"
  },
  "language_info": {
   "codemirror_mode": {
    "name": "ipython",
    "version": 3
   },
   "file_extension": ".py",
   "mimetype": "text/x-python",
   "name": "python",
   "nbconvert_exporter": "python",
   "pygments_lexer": "ipython3",
   "version": "3.9.16"
  },
  "orig_nbformat": 4
 },
 "nbformat": 4,
 "nbformat_minor": 2
}
